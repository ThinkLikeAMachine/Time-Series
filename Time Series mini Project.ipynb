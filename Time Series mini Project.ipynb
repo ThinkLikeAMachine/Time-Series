{
 "cells": [
  {
   "cell_type": "markdown",
   "id": "0ab3bc24",
   "metadata": {
    "slideshow": null
   },
   "source": [
    "# Time Series mini Project: Predict Temperature"
   ]
  },
  {
   "cell_type": "markdown",
   "id": "7673c8d3",
   "metadata": {
    "slideshow": null
   },
   "source": [
    "*The project assignment was created by Pragmatic Institute, but fulfilled by Hanyu Yangcheng.*"
   ]
  },
  {
   "cell_type": "markdown",
   "id": "64d82109",
   "metadata": {
    "slideshow": null
   },
   "source": [
    "Time series prediction presents its own challenges which are different from machine-learning problems. In this project, we will start with building simple models (i.e. temperature prediction based on a set of indicator variables), and then develop slighly complex model (i.e. Fourier model to deal with seasonal features).\n"
   ]
  },
  {
   "cell_type": "code",
   "execution_count": 20,
   "id": "a408a58c",
   "metadata": {
    "slideshow": null
   },
   "outputs": [],
   "source": [
    "import numpy as np\n",
    "import pandas as pd\n",
    "import matplotlib.pyplot as plt\n",
    "import seaborn as sns\n",
    "sns.set()"
   ]
  },
  {
   "cell_type": "markdown",
   "id": "721043fb",
   "metadata": {
    "slideshow": null
   },
   "source": [
    "## The data"
   ]
  },
  {
   "cell_type": "markdown",
   "id": "7262e844",
   "metadata": {
    "slideshow": null
   },
   "source": [
    "The weather data of 5 US. cities were provided by Pragmatic Institute and not shared here.  Let's take a look of the data first."
   ]
  },
  {
   "cell_type": "code",
   "execution_count": null,
   "id": "b4f3f2cd",
   "metadata": {
    "scrolled": true,
    "slideshow": null
   },
   "outputs": [],
   "source": [
    "df = pd.read_csv('train.v2.csv.gz')"
   ]
  },
  {
   "cell_type": "code",
   "execution_count": 3,
   "id": "48ce16ec",
   "metadata": {},
   "outputs": [
    {
     "name": "stdout",
     "output_type": "stream",
     "text": [
      "<class 'pandas.core.frame.DataFrame'>\n",
      "RangeIndex: 392136 entries, 0 to 392135\n",
      "Data columns (total 9 columns):\n",
      " #   Column          Non-Null Count   Dtype \n",
      "---  ------          --------------   ----- \n",
      " 0   station         392136 non-null  object\n",
      " 1   time            392136 non-null  object\n",
      " 2   temp            392136 non-null  object\n",
      " 3   dew_point       392136 non-null  object\n",
      " 4   pressure        392136 non-null  object\n",
      " 5   wind_speed      392136 non-null  object\n",
      " 6   wind_direction  392136 non-null  object\n",
      " 7   precip_hour     392136 non-null  object\n",
      " 8   weather_codes   392136 non-null  object\n",
      "dtypes: object(9)\n",
      "memory usage: 26.9+ MB\n"
     ]
    }
   ],
   "source": [
    "df.info()"
   ]
  },
  {
   "cell_type": "markdown",
   "id": "bca60cd5",
   "metadata": {
    "slideshow": null
   },
   "source": [
    "The `station` column indicates the city.  The `time` is measured in UTC.  Both `temp` and `dew_point` are measured in degrees Fahrenheit.  The `wind_speed` is in knots, and the `precip_hour` measures the hourly precipitation in inches."
   ]
  },
  {
   "cell_type": "markdown",
   "id": "21fc2302",
   "metadata": {},
   "source": [
    "First step is to remove rows without valid temperature measurements. In this dataset, missing values are indicated by a flag value `M`."
   ]
  },
  {
   "cell_type": "code",
   "execution_count": 5,
   "id": "9b291a5e",
   "metadata": {},
   "outputs": [],
   "source": [
    "df = df[df['temp'] != 'M']"
   ]
  },
  {
   "cell_type": "code",
   "execution_count": 6,
   "id": "e5a4cf3c",
   "metadata": {},
   "outputs": [
    {
     "name": "stdout",
     "output_type": "stream",
     "text": [
      "<class 'pandas.core.frame.DataFrame'>\n",
      "Index: 392020 entries, 0 to 392135\n",
      "Data columns (total 9 columns):\n",
      " #   Column          Non-Null Count   Dtype \n",
      "---  ------          --------------   ----- \n",
      " 0   station         392020 non-null  object\n",
      " 1   time            392020 non-null  object\n",
      " 2   temp            392020 non-null  object\n",
      " 3   dew_point       392020 non-null  object\n",
      " 4   pressure        392020 non-null  object\n",
      " 5   wind_speed      392020 non-null  object\n",
      " 6   wind_direction  392020 non-null  object\n",
      " 7   precip_hour     392020 non-null  object\n",
      " 8   weather_codes   392020 non-null  object\n",
      "dtypes: object(9)\n",
      "memory usage: 29.9+ MB\n"
     ]
    }
   ],
   "source": [
    "df.info()"
   ]
  },
  {
   "cell_type": "markdown",
   "id": "c242012c",
   "metadata": {
    "slideshow": null
   },
   "source": [
    "## Develop a simple model for one city"
   ]
  },
  {
   "cell_type": "markdown",
   "id": "6a1dad27",
   "metadata": {
    "slideshow": null
   },
   "source": [
    "Seasonal features are relatively safe to extrapolate into the future. There are two ways to handle seasonality. The simplest (and perhaps most robust) is to have a set of indicator variables. That is, make the assumption that the temperature at any given time is a function of only the month of the year and the hour of the day, and use that to predict the temperature value.\n",
    "\n",
    "Although there are multiple cities in the dataset, we want to make it simple and build a model to predict the temperature for a given hour in a given month only for New York City."
   ]
  },
  {
   "cell_type": "code",
   "execution_count": 7,
   "id": "0b1cb67f",
   "metadata": {
    "slideshow": null
   },
   "outputs": [],
   "source": [
    "df_nyc = df[df['station'] == 'NYC']"
   ]
  },
  {
   "cell_type": "code",
   "execution_count": 12,
   "id": "06359402",
   "metadata": {
    "scrolled": true
   },
   "outputs": [
    {
     "data": {
      "text/plain": [
       "314317    2010-01-01 00:51\n",
       "314318    2010-01-01 01:51\n",
       "314319    2010-01-01 02:51\n",
       "314320    2010-01-01 03:51\n",
       "314321    2010-01-01 04:51\n",
       "314322    2010-01-01 05:51\n",
       "314323    2010-01-01 06:51\n",
       "314324    2010-01-01 07:51\n",
       "314325    2010-01-01 08:51\n",
       "314326    2010-01-01 09:51\n",
       "Name: time, dtype: object"
      ]
     },
     "execution_count": 12,
     "metadata": {},
     "output_type": "execute_result"
    }
   ],
   "source": [
    "df_nyc['time'][:10]"
   ]
  },
  {
   "cell_type": "markdown",
   "id": "f9e0029d",
   "metadata": {},
   "source": [
    "The `time` column is `string` data type. We need to build a `Transformer` to extract `month` and `hour` from the data."
   ]
  },
  {
   "cell_type": "code",
   "execution_count": 9,
   "id": "0d8080b8",
   "metadata": {},
   "outputs": [],
   "source": [
    "from sklearn import base\n",
    "import datetime as dt\n",
    "\n",
    "class TimeTransformer(base.BaseEstimator, base.TransformerMixin):\n",
    "    \"\"\"Extract 'month' and 'hour' from 'time' column\"\"\"\n",
    "    def fit(self, X, y=None):\n",
    "        return self\n",
    "    \n",
    "    def transform(self, X, y=None):\n",
    "        out = pd.DataFrame()\n",
    "        out['month'] = pd.DatetimeIndex(pd.to_datetime(X['time'])).month\n",
    "        out['hour'] = pd.DatetimeIndex(pd.to_datetime(X['time'])).hour\n",
    "        return out"
   ]
  },
  {
   "cell_type": "code",
   "execution_count": 10,
   "id": "441051ed",
   "metadata": {
    "slideshow": null
   },
   "outputs": [
    {
     "data": {
      "text/plain": [
       "Pipeline(steps=[('time_encoder', TimeTransformer()), ('ohe', OneHotEncoder()),\n",
       "                ('regressor', LinearRegression())])"
      ]
     },
     "execution_count": 10,
     "metadata": {},
     "output_type": "execute_result"
    }
   ],
   "source": [
    "from sklearn.linear_model import LinearRegression\n",
    "from sklearn.pipeline import Pipeline\n",
    "from sklearn.preprocessing import OneHotEncoder  # use OneHotEncoder to encode 'month' and 'hour'\n",
    "\n",
    "nyc_model = Pipeline([('time_encoder', TimeTransformer()),\n",
    "                      ('ohe', OneHotEncoder()),\n",
    "                      ('regressor', LinearRegression())\n",
    "                     ])\n",
    "nyc_model.fit(df_nyc, df_nyc['temp'].astype('float64'))"
   ]
  },
  {
   "cell_type": "code",
   "execution_count": 11,
   "id": "e8994cd1",
   "metadata": {},
   "outputs": [
    {
     "data": {
      "text/plain": [
       "0.7767776751865024"
      ]
     },
     "execution_count": 11,
     "metadata": {},
     "output_type": "execute_result"
    }
   ],
   "source": [
    "nyc_model.score(df_nyc, df_nyc['temp'].astype('float64'))"
   ]
  },
  {
   "cell_type": "markdown",
   "id": "60be610f",
   "metadata": {
    "slideshow": null
   },
   "source": [
    "## Scale up to handle all the cities"
   ]
  },
  {
   "cell_type": "markdown",
   "id": "70b6465e",
   "metadata": {
    "slideshow": null
   },
   "source": [
    "Now we want to extend this same model to handle all of the cities in the dataset. Rather than adding features to the existing model, we'll just make a new copy of the model for each city.\n",
    "\n",
    "The model developed above is a particular instance of a Pipeline. We can make a **factory function** that returns a new copy of that Pipeline each time it's called."
   ]
  },
  {
   "cell_type": "code",
   "execution_count": 13,
   "id": "ded992b9",
   "metadata": {
    "slideshow": null
   },
   "outputs": [],
   "source": [
    "def season_factory():\n",
    "    city_pipe = Pipeline([('time_encoder', TimeTransformer()),\n",
    "                      ('ohe', OneHotEncoder()),\n",
    "                      ('regressor', LinearRegression())\n",
    "    ])\n",
    "    return city_pipe # A single estimator or a pipeline"
   ]
  },
  {
   "cell_type": "markdown",
   "id": "43367bad",
   "metadata": {
    "slideshow": null
   },
   "source": [
    "While we could manually call this function for each city in our dataset, we can build a \"group-by\" estimator to avoid the repetitive process. This estimator takes a column name and a factory function as an argument.  The `fit` method will group the incoming data by that column, and for each group it will call the factory to create a new instance to be trained by on that group. Then, the `predict` method will look up the corresponding model for each row and perform a predict using that model."
   ]
  },
  {
   "cell_type": "code",
   "execution_count": 16,
   "id": "fdae6b89",
   "metadata": {
    "slideshow": null
   },
   "outputs": [],
   "source": [
    "import numpy as np\n",
    "\n",
    "class GroupbyEstimator(base.BaseEstimator, base.RegressorMixin):\n",
    "    \n",
    "    def __init__(self, column, estimator_factory):\n",
    "        # column is the value to group by; estimator_factory can be called to produce estimators\n",
    "        self.column = column\n",
    "        self.estimator_factory = estimator_factory\n",
    "    \n",
    "    def fit(self, X, y):\n",
    "        # Create an estimator and fit it with the portion in each group\n",
    "        self.estimators = dict() #create an empty dict for estimators to be created\n",
    "        for loc in X[self.column].unique():\n",
    "            self.estimators[loc] = self.estimator_factory()\n",
    "            ind = (X[self.column] == loc)\n",
    "            self.estimators[loc].fit(X[ind], y[ind])\n",
    "        return self\n",
    "\n",
    "    def predict(self, X):\n",
    "        # Call the appropriate predict method for each row of X\n",
    "        output = pd.Series(index = X.index, dtype = \"float64\") # create an empty numpy array with the same indices of the X\n",
    "        for loc in X[self.column].unique():\n",
    "            index = X[X[self.column] == loc].index\n",
    "            y_loc = self.estimators[loc].predict(X.loc[index])\n",
    "            output.update(pd.Series(y_loc, index = index))\n",
    "        return output"
   ]
  },
  {
   "cell_type": "markdown",
   "id": "3e02babc",
   "metadata": {
    "slideshow": null
   },
   "source": [
    "Now, we should be able to build an equivalent model for each city:"
   ]
  },
  {
   "cell_type": "code",
   "execution_count": 17,
   "id": "877d55f6",
   "metadata": {
    "slideshow": null
   },
   "outputs": [],
   "source": [
    "all_cities_model = GroupbyEstimator('station', season_factory).fit(df, df['temp'])"
   ]
  },
  {
   "cell_type": "code",
   "execution_count": 18,
   "id": "3f6522c4",
   "metadata": {},
   "outputs": [
    {
     "data": {
      "text/plain": [
       "0.87044402473022"
      ]
     },
     "execution_count": 18,
     "metadata": {},
     "output_type": "execute_result"
    }
   ],
   "source": [
    " # Scaled up the model to handle multiple cities and reached a significantly better prediction coefficient\n",
    "all_cities_model.score(df, df['temp'])"
   ]
  },
  {
   "cell_type": "markdown",
   "id": "fbdcbc68",
   "metadata": {
    "slideshow": null
   },
   "source": [
    "## Fourier model"
   ]
  },
  {
   "cell_type": "markdown",
   "id": "ae312a05",
   "metadata": {
    "slideshow": null
   },
   "source": [
    "Now we can explore another way to deal with the seasonality.  Since we know that temperature is roughly sinusoidal, we know that a reasonable model might be\n",
    "\n",
    "$$ y_t = y_0 \\sin\\left(2\\pi\\frac{t - t_0}{T}\\right) + \\epsilon $$\n",
    "\n",
    "where $y_0$ and $t_0$ are parameters to be learned and $T$ is the period - one year for seasonal variation, one day for daily, etc.  While this is linear in $y_0$, it is not linear in $t_0$. However, we know from Fourier analysis, that the above is\n",
    "equivalent to\n",
    "\n",
    "$$ y_t = A \\sin\\left(2\\pi\\frac{t}{T}\\right) + B \\cos\\left(2\\pi\\frac{t}{T}\\right) + \\epsilon $$\n",
    "\n",
    "which is linear in $A$ and $B$.\n",
    "\n",
    "We are going to create a model containing sinusoidal terms on one or more time scales, and fit it to the data using a linear regression."
   ]
  },
  {
   "cell_type": "code",
   "execution_count": 21,
   "id": "c8ebcd5d",
   "metadata": {},
   "outputs": [
    {
     "data": {
      "image/png": "[encoded data removed]",
      "text/plain": [
       "<Figure size 432x288 with 1 Axes>"
      ]
     },
     "metadata": {},
     "output_type": "display_data"
    }
   ],
   "source": [
    "from math import pi\n",
    "\n",
    "fft_temp = np.fft.fft(df_nyc['temp'].astype('float64').values - df_nyc['temp'].astype('float64').values.mean())\n",
    "yrs = (pd.to_datetime(df_nyc['time']).index[-1] - pd.to_datetime(df_nyc['time']).index[0]) / (365.*24)\n",
    "\n",
    "plt.plot(np.arange(len(fft_temp)) / yrs, np.abs(fft_temp)**2)\n",
    "plt.axis([0, 5, 0, 8e11])\n",
    "plt.xlabel('Freq (1/yrs)');"
   ]
  },
  {
   "cell_type": "markdown",
   "id": "4fdd83d5",
   "metadata": {},
   "source": [
    "It's obveious and reasonable that there is seasonality at a frequency of once a year. Now let's determine the seasonality for each day."
   ]
  },
  {
   "cell_type": "code",
   "execution_count": 22,
   "id": "52593134",
   "metadata": {},
   "outputs": [
    {
     "data": {
      "image/png": "[encoded data removed]",
      "text/plain": [
       "<Figure size 432x288 with 1 Axes>"
      ]
     },
     "metadata": {},
     "output_type": "display_data"
    }
   ],
   "source": [
    "yrs = (pd.to_datetime(df_nyc['time']).index[-1] - pd.to_datetime(df_nyc['time']).index[0]) / 24.\n",
    "\n",
    "plt.plot(np.arange(len(fft_temp)) / yrs, np.abs(fft_temp)**2)\n",
    "plt.axis([0.5, 5, 0, 3e9])\n",
    "plt.xlabel('Freq (1/day)');"
   ]
  },
  {
   "cell_type": "markdown",
   "id": "a9c43354",
   "metadata": {},
   "source": [
    "Now we build a **Fourier Transformer** and build a model that combines daily and annual seasonal features."
   ]
  },
  {
   "cell_type": "code",
   "execution_count": 23,
   "id": "6fbf0c5a",
   "metadata": {},
   "outputs": [],
   "source": [
    "from math import pi\n",
    "from sklearn.pipeline import FeatureUnion\n",
    "from sklearn.compose import ColumnTransformer\n",
    "\n",
    "class TimeConverter(base.BaseEstimator, base.TransformerMixin):\n",
    "    # Convert 'time' column from 'string' to 'datetime' type    \n",
    "    def fit(self, X, y=None):\n",
    "        return self\n",
    "    \n",
    "    def transform(self, X):\n",
    "        X = X.copy()\n",
    "        X['time'] = X['time'].apply(pd.to_datetime)\n",
    "        return X\n",
    "\n",
    "\n",
    "class FourierTransformer(base.BaseEstimator, base.TransformerMixin):\n",
    "    \n",
    "    def __init__(self, freq):\n",
    "        self.freq = freq\n",
    "        \n",
    "    def fit(self, X, y=None):\n",
    "        self.X0 = X['time'].loc[X.index[0]]\n",
    "        return self\n",
    "    \n",
    "    def transform(self, X):\n",
    "        dt = (X['time'] - self.X0).dt.days * 2 * np.pi * self.freq\n",
    "        return np.c_[np.sin(dt), np.cos(dt)]\n",
    "    \n",
    "FourierUnion = FeatureUnion([('fourier_annual', FourierTransformer(1/365)),\n",
    "                             ('fourier_daily', FourierTransformer(1))])"
   ]
  },
  {
   "cell_type": "code",
   "execution_count": 24,
   "id": "e9db5594",
   "metadata": {
    "slideshow": null
   },
   "outputs": [],
   "source": [
    "def fourier_factory():\n",
    "    fourier_pipe = Pipeline([('datetime', TimeConverter()),\n",
    "                             ('fourier_components', FourierUnion),\n",
    "                             ('regressor', LinearRegression())])\n",
    "    return fourier_pipe"
   ]
  },
  {
   "cell_type": "code",
   "execution_count": 25,
   "id": "bb839946",
   "metadata": {
    "slideshow": null
   },
   "outputs": [],
   "source": [
    "fourier_model = GroupbyEstimator('station', fourier_factory).fit(df, df['temp'])"
   ]
  },
  {
   "cell_type": "code",
   "execution_count": 26,
   "id": "eeb645c5",
   "metadata": {
    "slideshow": null
   },
   "outputs": [
    {
     "data": {
      "text/plain": [
       "0.8245426614794784"
      ]
     },
     "execution_count": 26,
     "metadata": {},
     "output_type": "execute_result"
    }
   ],
   "source": [
    "fourier_model.score(df, df['temp'])"
   ]
  }
 ],
 "metadata": {
  "kernelspec": {
   "display_name": "Python 3 (ipykernel)",
   "language": "python",
   "name": "python3"
  },
  "language_info": {
   "codemirror_mode": {
    "name": "ipython",
    "version": 3
   },
   "file_extension": ".py",
   "mimetype": "text/x-python",
   "name": "python",
   "nbconvert_exporter": "python",
   "pygments_lexer": "ipython3",
   "version": "3.9.12"
  },
  "nbclean": true
 },
 "nbformat": 4,
 "nbformat_minor": 5
}
